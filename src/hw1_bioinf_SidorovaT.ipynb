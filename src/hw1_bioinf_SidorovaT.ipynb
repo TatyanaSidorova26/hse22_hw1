{
  "nbformat": 4,
  "nbformat_minor": 0,
  "metadata": {
    "colab": {
      "provenance": []
    },
    "kernelspec": {
      "name": "python3",
      "display_name": "Python 3"
    },
    "language_info": {
      "name": "python"
    }
  },
  "cells": [
    {
      "cell_type": "code",
      "execution_count": null,
      "metadata": {
        "id": "eJw69-M0W11b"
      },
      "outputs": [],
      "source": [
        "import re\n"
      ]
    },
    {
      "cell_type": "code",
      "source": [
        "def get_info(f, text, output = True):\n",
        "    lengths = []\n",
        "    total_len = 0\n",
        "    num = 0\n",
        "    max_len = 0\n",
        "    length = 0\n",
        "    score = 0\n",
        "    max_sequence = ''\n",
        "    curr_sequence = ''\n",
        "    for line in f:\n",
        "        if (line[0] == '>'):\n",
        "            if num != 0:\n",
        "                lengths.append(length)\n",
        "            num += 1\n",
        "            if length >= max_len:\n",
        "                max_len = length\n",
        "                max_sequence = curr_sequence\n",
        "            curr_sequence = ''\n",
        "            length = 0\n",
        "        else:\n",
        "            curr_sequence += line.strip()\n",
        "            length += len(line.strip())\n",
        "            total_len += len(line.strip())\n",
        "     \n",
        "    lengths.sort(reverse = True) \n",
        "    for i in lengths:\n",
        "        score += i\n",
        "        if score >= total_len / 2:\n",
        "            if output == True:\n",
        "                print(f'Анализ {text}\\n\\\n",
        "Общее количество: {num},\\n\\\n",
        "Общая длина: {total_len},\\n\\\n",
        "Длина самого длинного: {max_len},\\n\\\n",
        "N50: {i}\\n')\n",
        "            break\n",
        "    return max_sequence"
      ],
      "metadata": {
        "id": "vht7xY6rXIMt"
      },
      "execution_count": 6,
      "outputs": []
    },
    {
      "cell_type": "code",
      "source": [
        "max_cont = get_info(open('aaa_contig.fa', 'r'), 'Контигов')"
      ],
      "metadata": {
        "colab": {
          "base_uri": "https://localhost:8080/"
        },
        "id": "Qc0Zelj5YAqa",
        "outputId": "da846550-fd9a-420f-966b-2f8c2575b405"
      },
      "execution_count": 8,
      "outputs": [
        {
          "output_type": "stream",
          "name": "stdout",
          "text": [
            "Анализ Контигов\n",
            "Общее количество: 614,\n",
            "Общая длина: 3925500,\n",
            "Длина самого длинного: 179307,\n",
            "N50: 55038\n",
            "\n"
          ]
        }
      ]
    },
    {
      "cell_type": "code",
      "source": [
        "max_scaf = get_info(open('aaa_scaffold.fa', 'r'), 'Скаффолдов')"
      ],
      "metadata": {
        "colab": {
          "base_uri": "https://localhost:8080/"
        },
        "id": "VhNwDhote9d7",
        "outputId": "1613e5b6-3ed1-41a3-bee1-ff4c22021ea7"
      },
      "execution_count": 10,
      "outputs": [
        {
          "output_type": "stream",
          "name": "stdout",
          "text": [
            "Анализ Скаффолдов\n",
            "Общее количество: 66,\n",
            "Общая длина: 3876492,\n",
            "Длина самого длинного: 3838403,\n",
            "N50: 3838403\n",
            "\n"
          ]
        }
      ]
    },
    {
      "cell_type": "code",
      "source": [
        "print(f'Общая длина гэпов: {max_scaf.count(\"N\")}')\n",
        "max_scaf = re.sub(r'N{2,}', 'N', max_scaf)\n",
        "print(f'Число гэпов: {max_scaf.count(\"N\")}')"
      ],
      "metadata": {
        "colab": {
          "base_uri": "https://localhost:8080/",
          "height": 217
        },
        "id": "ngkKnGy4kVh5",
        "outputId": "91aef985-4d73-414a-a31f-11cd7b01291a"
      },
      "execution_count": 11,
      "outputs": [
        {
          "output_type": "stream",
          "name": "stdout",
          "text": [
            "Общая длина гэпов: 7048\n"
          ]
        },
        {
          "output_type": "error",
          "ename": "NameError",
          "evalue": "ignored",
          "traceback": [
            "\u001b[0;31m---------------------------------------------------------------------------\u001b[0m",
            "\u001b[0;31mNameError\u001b[0m                                 Traceback (most recent call last)",
            "\u001b[0;32m<ipython-input-11-0580250ce6ca>\u001b[0m in \u001b[0;36m<module>\u001b[0;34m\u001b[0m\n\u001b[1;32m      1\u001b[0m \u001b[0mprint\u001b[0m\u001b[0;34m(\u001b[0m\u001b[0;34mf'Общая длина гэпов: {max_scaf.count(\"N\")}'\u001b[0m\u001b[0;34m)\u001b[0m\u001b[0;34m\u001b[0m\u001b[0;34m\u001b[0m\u001b[0m\n\u001b[0;32m----> 2\u001b[0;31m \u001b[0mmax_scaf\u001b[0m \u001b[0;34m=\u001b[0m \u001b[0mre\u001b[0m\u001b[0;34m.\u001b[0m\u001b[0msub\u001b[0m\u001b[0;34m(\u001b[0m\u001b[0;34mr'N{2,}'\u001b[0m\u001b[0;34m,\u001b[0m \u001b[0;34m'N'\u001b[0m\u001b[0;34m,\u001b[0m \u001b[0mmax_scaf\u001b[0m\u001b[0;34m)\u001b[0m\u001b[0;34m\u001b[0m\u001b[0;34m\u001b[0m\u001b[0m\n\u001b[0m\u001b[1;32m      3\u001b[0m \u001b[0mprint\u001b[0m\u001b[0;34m(\u001b[0m\u001b[0;34mf'Число гэпов: {max_scaf.count(\"N\")}'\u001b[0m\u001b[0;34m)\u001b[0m\u001b[0;34m\u001b[0m\u001b[0;34m\u001b[0m\u001b[0m\n",
            "\u001b[0;31mNameError\u001b[0m: name 're' is not defined"
          ]
        }
      ]
    },
    {
      "cell_type": "code",
      "source": [
        "max_scaf = get_info(open('aaa_gapClosed.fa', 'r'), 'Скаффолдов', False)"
      ],
      "metadata": {
        "id": "N343jbi1op-N"
      },
      "execution_count": 13,
      "outputs": []
    },
    {
      "cell_type": "code",
      "source": [
        "print(f'Общая длина гэпов для обрезанных чтений: {max_scaf.count(\"N\")}')\n",
        "max_scaf = re.sub(r'N{2,}', 'N', max_scaf)\n",
        "print(f'Число гэпов для обрезанных чтений: {max_scaf.count(\"N\")}')"
      ],
      "metadata": {
        "colab": {
          "base_uri": "https://localhost:8080/",
          "height": 217
        },
        "id": "mgPaqr0Uo2E6",
        "outputId": "c5393698-f509-47b0-cbea-bb872d1827bd"
      },
      "execution_count": 14,
      "outputs": [
        {
          "output_type": "stream",
          "name": "stdout",
          "text": [
            "Общая длина гэпов для обрезанных чтений: 1471\n"
          ]
        },
        {
          "output_type": "error",
          "ename": "NameError",
          "evalue": "ignored",
          "traceback": [
            "\u001b[0;31m---------------------------------------------------------------------------\u001b[0m",
            "\u001b[0;31mNameError\u001b[0m                                 Traceback (most recent call last)",
            "\u001b[0;32m<ipython-input-14-e8caf47e54d9>\u001b[0m in \u001b[0;36m<module>\u001b[0;34m\u001b[0m\n\u001b[1;32m      1\u001b[0m \u001b[0mprint\u001b[0m\u001b[0;34m(\u001b[0m\u001b[0;34mf'Общая длина гэпов для обрезанных чтений: {max_scaf.count(\"N\")}'\u001b[0m\u001b[0;34m)\u001b[0m\u001b[0;34m\u001b[0m\u001b[0;34m\u001b[0m\u001b[0m\n\u001b[0;32m----> 2\u001b[0;31m \u001b[0mmax_scaf\u001b[0m \u001b[0;34m=\u001b[0m \u001b[0mre\u001b[0m\u001b[0;34m.\u001b[0m\u001b[0msub\u001b[0m\u001b[0;34m(\u001b[0m\u001b[0;34mr'N{2,}'\u001b[0m\u001b[0;34m,\u001b[0m \u001b[0;34m'N'\u001b[0m\u001b[0;34m,\u001b[0m \u001b[0mmax_scaf\u001b[0m\u001b[0;34m)\u001b[0m\u001b[0;34m\u001b[0m\u001b[0;34m\u001b[0m\u001b[0m\n\u001b[0m\u001b[1;32m      3\u001b[0m \u001b[0mprint\u001b[0m\u001b[0;34m(\u001b[0m\u001b[0;34mf'Число гэпов для обрезанных чтений: {max_scaf.count(\"N\")}'\u001b[0m\u001b[0;34m)\u001b[0m\u001b[0;34m\u001b[0m\u001b[0;34m\u001b[0m\u001b[0m\n",
            "\u001b[0;31mNameError\u001b[0m: name 're' is not defined"
          ]
        }
      ]
    }
  ]
}